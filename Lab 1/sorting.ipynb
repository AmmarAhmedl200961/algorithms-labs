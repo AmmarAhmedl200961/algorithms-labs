{
 "cells": [
  {
   "cell_type": "markdown",
   "metadata": {},
   "source": [
    "# Define each algorithm for sorting\n",
    "\n",
    "• Selection Sort\n",
    "\n",
    "• Merge Sort\n",
    "\n",
    "• Insertion Sort\n",
    "\n",
    "• Quick Sort"
   ]
  },
  {
   "cell_type": "code",
   "execution_count": 50,
   "metadata": {},
   "outputs": [],
   "source": [
    "def mergesort(arr):\n",
    "    if len(arr) <= 1:\n",
    "        return arr\n",
    "    \n",
    "    mid = len(arr) // 2\n",
    "    left_data = arr[:mid]\n",
    "    right_data = arr[mid:]\n",
    "    \n",
    "    left_data = mergesort(left_data)\n",
    "    right_data = mergesort(right_data)\n",
    "    \n",
    "    sorted_arr = []\n",
    "    left_index = 0\n",
    "    right_index = 0\n",
    "    \n",
    "    while left_index < len(left_data) and right_index < len(right_data):\n",
    "        if left_data[left_index] < right_data[right_index]:\n",
    "            sorted_arr.append(left_data[left_index])\n",
    "            left_index += 1\n",
    "        else:\n",
    "            sorted_arr.append(right_data[right_index])\n",
    "            right_index += 1\n",
    "    \n",
    "    sorted_arr.extend(left_data[left_index:])\n",
    "    sorted_arr.extend(right_data[right_index:])\n",
    "    \n",
    "    return sorted_arr\n"
   ]
  },
  {
   "cell_type": "code",
   "execution_count": 51,
   "metadata": {},
   "outputs": [],
   "source": [
    "def selectionsort(arr):\n",
    "    for i in range(len(arr)):\n",
    "        min_idx = i\n",
    "        for j in range(i+1, len(arr)):\n",
    "            if arr[min_idx] > arr[j]:\n",
    "                min_idx = j\n",
    "        arr[i], arr[min_idx] = arr[min_idx], arr[i]\n",
    "    return arr"
   ]
  },
  {
   "cell_type": "code",
   "execution_count": 52,
   "metadata": {},
   "outputs": [],
   "source": [
    "def insertionsort(arr):\n",
    "    for i in range(1, len(arr)):\n",
    "        key = arr[i]\n",
    "        j = i-1\n",
    "        while j >= 0 and key < arr[j]:\n",
    "            arr[j + 1] = arr[j]\n",
    "            j -= 1\n",
    "        arr[j + 1] = key\n",
    "    return arr"
   ]
  },
  {
   "cell_type": "code",
   "execution_count": 53,
   "metadata": {},
   "outputs": [],
   "source": [
    "def quicksort(arr):\n",
    "    if len(arr) <= 1:\n",
    "        return arr\n",
    "    else:\n",
    "        pivot = arr[0]\n",
    "        less = [x for x in arr[1:] if x <= pivot]\n",
    "        greater = [x for x in arr[1:] if x > pivot]\n",
    "        return quicksort(less) + [pivot] + quicksort(greater)"
   ]
  },
  {
   "cell_type": "code",
   "execution_count": 54,
   "metadata": {},
   "outputs": [
    {
     "name": "stdout",
     "output_type": "stream",
     "text": [
      "Original array: [12, 11, 13, 5, 6, 7]\n",
      "Merge sorted array: [5, 6, 7, 11, 12, 13]\n",
      "Selection sorted array: [5, 6, 7, 11, 12, 13]\n",
      "Insertion sorted array: [5, 6, 7, 11, 12, 13]\n",
      "Quick sorted array: [5, 6, 7, 11, 12, 13]\n"
     ]
    }
   ],
   "source": [
    "# test drivers for the sorting algorithms\n",
    "arr = [12, 11, 13, 5, 6, 7]\n",
    "print(f\"Original array: {arr}\")\n",
    "print(f\"Merge sorted array: {mergesort(arr)}\")\n",
    "print(f\"Selection sorted array: {selectionsort(arr)}\")\n",
    "print(f\"Insertion sorted array: {insertionsort(arr)}\")\n",
    "print(f\"Quick sorted array: {quicksort(arr)}\")\n"
   ]
  },
  {
   "cell_type": "markdown",
   "metadata": {},
   "source": [
    "# time taken by each algorithm for sorting\n",
    "\n",
    "Generate an array of size 1000\n",
    "that contains random values, run your code on that array, and compute the time it takes the code to execute."
   ]
  },
  {
   "cell_type": "code",
   "execution_count": 56,
   "metadata": {},
   "outputs": [
    {
     "name": "stdout",
     "output_type": "stream",
     "text": [
      "Merge sort\n",
      "Time taken: 3.711600002134219 ms\n",
      "Selection sort\n",
      "Time taken: 54.40989998169243 ms\n",
      "Insertion sort\n",
      "Time taken: 0.450699997600168 ms\n",
      "Quick sort\n",
      "Time taken: 63.50479999673553 ms\n"
     ]
    }
   ],
   "source": [
    "import time\n",
    "import random\n",
    "\n",
    "# test the performance of the sorting algorithms\n",
    "# generate an array of size 1000\n",
    "arr = random.sample(range(1, 1000000), 1000)\n",
    "\n",
    "print(\"Merge sort\")\n",
    "start = time.perf_counter()\n",
    "mergesort(arr)\n",
    "end = time.perf_counter()\n",
    "print(f\"Time taken: {(end - start) * 1000} ms\")\n",
    "\n",
    "print(\"Selection sort\")\n",
    "start = time.perf_counter()\n",
    "selectionsort(arr)\n",
    "end = time.perf_counter()\n",
    "print(f\"Time taken: {(end - start) * 1000} ms\")\n",
    "\n",
    "print(\"Insertion sort\")\n",
    "start = time.perf_counter()\n",
    "insertionsort(arr)\n",
    "end = time.perf_counter()\n",
    "print(f\"Time taken: {(end - start) * 1000} ms\")\n",
    "\n",
    "print(\"Quick sort\")\n",
    "start = time.perf_counter()\n",
    "quicksort(arr)\n",
    "end = time.perf_counter()\n",
    "print(f\"Time taken: {(end - start) * 1000} ms\")\n"
   ]
  },
  {
   "cell_type": "markdown",
   "metadata": {},
   "source": [
    "Runing code on arrays of size `n = 10, 20, 30, . . . , 1000` that containing random values.\n",
    "Let `t(n)` be the time required to run the code on an array of size n. Generate a scatter plot or line plot that plots n on the horizontal axis and and `t(n)` on the vertical axis."
   ]
  },
  {
   "cell_type": "code",
   "execution_count": 65,
   "metadata": {},
   "outputs": [
    {
     "data": {
      "image/png": "[encoded data removed]",
      "text/plain": [
       "<Figure size 640x480 with 1 Axes>"
      ]
     },
     "metadata": {},
     "output_type": "display_data"
    }
   ],
   "source": [
    "import matplotlib.pyplot as plt\n",
    "import time\n",
    "import random\n",
    "\n",
    "# Initialize empty lists to store the values of n and t(n)\n",
    "n_values = []\n",
    "t_values = []\n",
    "\n",
    "# Iterate over the range of array sizes from 10 to 1000\n",
    "for n in range(10, 1001, 10):\n",
    "    # Generate an array of size n with random values\n",
    "    arr = random.sample(range(1, 1000000), n)\n",
    "    \n",
    "    # Measure the time taken to run the code on the array\n",
    "    start = time.perf_counter()\n",
    "    # Uncomment the function_name with the actual sorting algorith you want to measure\n",
    "    mergesort(arr)\n",
    "    # selectionsort(arr)\n",
    "    # insertionsort(arr)\n",
    "    # quicksort(arr)\n",
    "    \n",
    "    end = time.perf_counter()\n",
    "    \n",
    "    # Calculate the time taken in milliseconds\n",
    "    t = (end - start) * 1000\n",
    "    \n",
    "    # Append the values to the lists\n",
    "    n_values.append(n)\n",
    "    t_values.append(t)\n",
    "\n",
    "# Plot the scatter plot or line plot\n",
    "plt.plot(n_values, t_values)\n",
    "plt.xlabel('Array Size (n)')\n",
    "plt.ylabel('Time (ms)')\n",
    "plt.title('Time Complexity')\n",
    "plt.show()\n"
   ]
  },
  {
   "cell_type": "markdown",
   "metadata": {},
   "source": [
    "how does the plot generated in the previous problem helps to verify the running time\n",
    "of the algorithm that you chose to implement.\n",
    "\n",
    "A: The plot verifies the time complexity of the implemented sorting algorithm. As the size of the input `(n)` increases, the time taken `(t(n))` also increases. The relationship between n and t(n) appears to be logarithmic, suggesting a time complexity of `O(n log n)`. This aligns with the expected time complexity of the Merge Sort/Quick Sort algorithm, thus confirming the correctness of the implementation. The spikes seen in the plot may be due to the random nature of the input data, but the overall trend confirms the expected time complexity."
   ]
  }
 ],
 "metadata": {
  "kernelspec": {
   "display_name": "base",
   "language": "python",
   "name": "python3"
  },
  "language_info": {
   "codemirror_mode": {
    "name": "ipython",
    "version": 3
   },
   "file_extension": ".py",
   "mimetype": "text/x-python",
   "name": "python",
   "nbconvert_exporter": "python",
   "pygments_lexer": "ipython3",
   "version": "3.11.5"
  }
 },
 "nbformat": 4,
 "nbformat_minor": 2
}
